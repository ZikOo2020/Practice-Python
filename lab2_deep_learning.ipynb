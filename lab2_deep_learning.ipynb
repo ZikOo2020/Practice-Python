{
 "cells": [
  {
   "cell_type": "code",
   "execution_count": 1,
   "metadata": {},
   "outputs": [],
   "source": [
    "import numpy as np\n",
    "import pandas as pd\n",
    "from numpy.linalg import inv as inv\n",
    "import matplotlib.pyplot as plt\n",
    "from scipy.stats import norm as norm\n",
    "from sklearn.model_selection import train_test_split"
   ]
  },
  {
   "cell_type": "code",
   "execution_count": 2,
   "metadata": {},
   "outputs": [],
   "source": [
    "def solve_pdfs(pdf_mean_1, pdf_mean_2, pdf_std_1, pdf_std_2):\n",
    "    coeff1 = 1/(2*pdf_std_1**2) - 1/(2*pdf_std_2**2)\n",
    "    coeff2 = pdf_mean_2/(pdf_std_2**2) - pdf_mean_1/(pdf_std_1**2)\n",
    "    coeff3 = pdf_mean_1**2 /(2*pdf_std_1**2) - pdf_mean_2**2 / (2*pdf_std_2**2) - np.log(pdf_std_2/pdf_std_1)\n",
    "\n",
    "    coeffs = [coeff1, coeff2, coeff3]\n",
    "\n",
    "    roots_of_eq = np.roots(coeffs)\n",
    "    threshold = roots_of_eq[1]\n",
    "    return threshold"
   ]
  },
  {
   "cell_type": "code",
   "execution_count": 4,
   "metadata": {},
   "outputs": [],
   "source": [
    "def find_w_cordinates(X_train1, X_train2):\n",
    "    \n",
    "    # 1. Find M1, M2, Cov1, Cov2\n",
    "    Mean1 = np.mean(X_train1,axis=0)\n",
    "    Mean2 = np.mean(X_train2,axis=0)\n",
    "    Mean_difference = np.subtract(Mean1,Mean2)\n",
    "\n",
    "    Cov1 = np.cov(np.transpose(X_train1))\n",
    "    Cov2 = np.cov(np.transpose(X_train2))\n",
    "\n",
    "    # 2. Within class spread Sw = Cov1 + Cov2  \n",
    "    Sw_inv = np.linalg.inv(np.add(Cov1,Cov2))\n",
    "    \n",
    "    # 3. W = (Sw_inv).(M1-M2)\n",
    "    W = np.dot(Sw_inv,Mean_difference)\n",
    "    \n",
    "    # 4. Normalise W\n",
    "    W_norm = W / np.linalg.norm(W)\n",
    "    \n",
    "    return W_norm"
   ]
  },
  {
   "cell_type": "code",
   "execution_count": 5,
   "metadata": {},
   "outputs": [],
   "source": [
    "def find_threshold(X_train1, X_train2, W,dataset_name):\n",
    "    # Threshold = point of intersection of the pdfs (probability density functions)\n",
    "    \n",
    "    # 1. Find Projections\n",
    "    Proj1 = np.dot(W,X_train1.transpose())\n",
    "    Proj2 = np.dot(W,X_train2.transpose())\n",
    "    \n",
    "    # 2. Find Means of the projected data for class 1 and 2\n",
    "    proj_mean1 = np.mean(Proj1)\n",
    "    proj_mean2 = np.mean(Proj2)\n",
    "\n",
    "    # 3. Find Std deviations of the projected data for class 1 and 2\n",
    "    proj_std1 = np.std(Proj1)\n",
    "    proj_std2 = np.std(Proj2)\n",
    "\n",
    "    # 4. Solve the equations\n",
    "    threshold = solve_pdfs(proj_mean1, proj_mean2, proj_std1, proj_std2)\n",
    "\n",
    "    return threshold"
   ]
  },
  {
   "cell_type": "code",
   "execution_count": 6,
   "metadata": {},
   "outputs": [],
   "source": [
    "def find_predictions(X_test, W, threshold):\n",
    "    \n",
    "    # Project the Test data onto W\n",
    "    proj_testdata = np.dot(W, X_test.transpose()).reshape(X_test.shape[0],1)\n",
    "    \n",
    "    # Compare with threshold\n",
    "    predictions = (proj_testdata >= threshold).astype(int).reshape(X_test.shape[0],1)\n",
    "    \n",
    "    return proj_testdata, predictions"
   ]
  },
  {
   "cell_type": "code",
   "execution_count": 7,
   "metadata": {},
   "outputs": [],
   "source": [
    "def plot_projections(projections, y_test, threshold,dataset_name):\n",
    "    proj_pred_data = pd.DataFrame(np.concatenate((projections, y_test), axis=1))\n",
    "    proj1_pred = proj_pred_data.loc[proj_pred_data[1] >=8.5][[0]]\n",
    "    proj2_pred = proj_pred_data.loc[proj_pred_data[1] <8.5][[0]]    \n",
    "    plt.plot(proj1_pred, np.ones(proj1_pred.shape), '.', color='b', label='Class 1 (value 1)')\n",
    "    plt.plot(proj2_pred, np.ones(proj2_pred.shape), '.', color='r',label='Class 2 (value 0)')\n",
    "    plt.plot([threshold], [1], '.', color='g',label='Threshold')\n",
    "    plt.legend(loc = 'upper right')\n",
    "    plt.title('Projections onto W vector. Threshold = '+ str(threshold))\n",
    "    plt.show()"
   ]
  },
  {
   "cell_type": "code",
   "execution_count": 8,
   "metadata": {},
   "outputs": [],
   "source": [
    "def fisher(X_train1, X_train2, X_test, y_test,dataset_name):\n",
    "    \n",
    "    # 1. Find Projection Line\n",
    "    W = find_w_cordinates(X_train1, X_train2)\n",
    "    \n",
    "    # 2. Find Threshold\n",
    "    threshold = find_threshold(X_train1, X_train2, W,dataset_name)\n",
    "    \n",
    "    # 3. Find Predictions for the Test Data by Projecting onto W and comparing to the threshold\n",
    "    projections, y_predicted = find_predictions(X_test, W, threshold)\n",
    "    \n",
    "    # Plot the projections\n",
    "    plot_projections(projections, y_test, threshold,dataset_name)"
   ]
  },
  {
   "cell_type": "code",
   "execution_count": 9,
   "metadata": {},
   "outputs": [
    {
     "name": "stdout",
     "output_type": "stream",
     "text": [
      "Test_Fisher - 1\n"
     ]
    },
    {
     "data": {
      "image/png": "[encoded data removed]",
      "text/plain": [
       "<Figure size 432x288 with 1 Axes>"
      ]
     },
     "metadata": {
      "needs_background": "light"
     },
     "output_type": "display_data"
    }
   ],
   "source": [
    "data = pd.read_csv('C:/Users/Zualfiqar/Desktop/hostel_factors.csv', header=None)\n",
    "X = data[[0,1]]\n",
    "y = data[[2]]\n",
    "\n",
    "# label = 1 -> Class 1\n",
    "# label = 2 -> Class 2\n",
    "\n",
    "# X_1 => Feature vectors of all the points in class1\n",
    "# X_2 => Feature vectors of all the points in class2\n",
    "\n",
    "X_1 = data.loc[data[2]>=8.5][[0,1]]\n",
    "X_2 = data.loc[data[2]<8.5][[0,1]]\n",
    "\n",
    "print('Test_Fisher - 1')\n",
    "\n",
    "fisher(X_1, X_2, X, y.values,data)"
   ]
  },
  {
   "cell_type": "code",
   "execution_count": null,
   "metadata": {},
   "outputs": [],
   "source": []
  }
 ],
 "metadata": {
  "kernelspec": {
   "display_name": "Python 3",
   "language": "python",
   "name": "python3"
  },
  "language_info": {
   "codemirror_mode": {
    "name": "ipython",
    "version": 3
   },
   "file_extension": ".py",
   "mimetype": "text/x-python",
   "name": "python",
   "nbconvert_exporter": "python",
   "pygments_lexer": "ipython3",
   "version": "3.8.5"
  }
 },
 "nbformat": 4,
 "nbformat_minor": 4
}
